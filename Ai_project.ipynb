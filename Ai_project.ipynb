{
 "cells": [
  {
   "cell_type": "code",
   "execution_count": 4,
   "id": "ebf04308-49a5-4a53-bb20-be192c0f574a",
   "metadata": {},
   "outputs": [
    {
     "name": "stdout",
     "output_type": "stream",
     "text": [
      "Accuracy: 0.9414634146341463\n"
     ]
    }
   ],
   "source": [
    "import pandas as pd\n",
    "from sklearn.model_selection import train_test_split\n",
    "from sklearn.feature_extraction.text import TfidfVectorizer\n",
    "from sklearn.linear_model import LogisticRegression\n",
    "from sklearn.metrics import accuracy_score\n",
    "\n",
    "# Loading the data\n",
    "clickbait_train = pd.read_csv('clickbait_train.csv')\n",
    "clickbait_test = pd.read_csv('clickbait_test.csv')\n",
    "non_clickbait_train = pd.read_csv('non_clickbait_train.csv')\n",
    "non_clickbait_test = pd.read_csv('non_clickbait_test.csv')\n",
    "\n",
    "# Adding labels to the data\n",
    "clickbait_train['Label'] = 1\n",
    "clickbait_test['Label'] = 1\n",
    "non_clickbait_train['Label'] = 0\n",
    "non_clickbait_test['Label'] = 0\n",
    "\n",
    "# Mixing the datasets\n",
    "train_data = pd.concat([clickbait_train, non_clickbait_train], ignore_index=True)\n",
    "test_data = pd.concat([clickbait_test, non_clickbait_test], ignore_index=True)\n",
    "\n",
    "# Dividing based on features\n",
    "X_train = train_data['Headlines']\n",
    "y_train = train_data['Label']\n",
    "X_test = test_data['Headlines']\n",
    "y_test = test_data['Label']\n",
    "\n",
    "# Vectorizing the data\n",
    "vectorizer = TfidfVectorizer(max_features=1000)  \n",
    "X_train_vec = vectorizer.fit_transform(X_train)\n",
    "X_test_vec = vectorizer.transform(X_test)\n",
    "\n",
    "# Training the data\n",
    "model = LogisticRegression()\n",
    "model.fit(X_train_vec, y_train)\n",
    "\n",
    "# predicting the value for test data\n",
    "y_pred = model.predict(X_test_vec)\n",
    "\n",
    "# Caliculating the accuracy of the data\n",
    "accuracy = accuracy_score(y_test, y_pred)\n",
    "print(\"Accuracy:\", accuracy)\n"
   ]
  },
  {
   "cell_type": "code",
   "execution_count": null,
   "id": "ab273f95-2d4f-4b52-bbfb-1717401aba45",
   "metadata": {},
   "outputs": [],
   "source": [
    "#Testing for a user input data\n",
    "def predict_clickbait(headline):\n",
    "    headline_vec = vectorizer.transform([headline])\n",
    "    prediction = model.predict(headline_vec)\n",
    "    if prediction[0] == 1:\n",
    "        return \"This headline is a clickbait.\"\n",
    "    else:\n",
    "        return \"This headline is not a clickbait.\"\n",
    "\n",
    "# Ask for input and predict\n",
    "new_headline = input(\"Enter a headline: \")\n",
    "result = predict_clickbait(new_headline)\n",
    "print(result)"
   ]
  },
  {
   "cell_type": "code",
   "execution_count": 3,
   "id": "934a8216-817d-42c8-8618-e701a65b8d75",
   "metadata": {},
   "outputs": [],
   "source": [
    "import tkinter as tk\n",
    "from tkinter import ttk\n",
    "\n",
    "# Function to predict clickbait\n",
    "def on_predict():\n",
    "    headline = entry_headline.get()\n",
    "    headline_vec = vectorizer.transform([headline])\n",
    "    prediction = model.predict(headline_vec)\n",
    "    if prediction[0] == 1:\n",
    "        label_result.config(text=\"This headline is a clickbait.\", foreground=\"red\")\n",
    "    else:\n",
    "        label_result.config(text=\"This headline is not a clickbait.\", foreground=\"green\")\n",
    "\n",
    "# Creating aTkinter window\n",
    "root = tk.Tk()\n",
    "root.title(\"Clickbait Detector\")\n",
    "\n",
    "# styling\n",
    "style = ttk.Style()\n",
    "style.configure(\"TButton\", padding=10, relief=\"flat\", background=\"#4CAF50\")\n",
    "style.configure(\"TLabel\", padding=10, font=(\"Helvetica\", 12))\n",
    "\n",
    "label_headline = ttk.Label(root, text=\"Enter a headline:\")\n",
    "label_headline.grid(row=0, column=0, padx=10, pady=10, sticky=\"w\")\n",
    "\n",
    "entry_headline = ttk.Entry(root, width=50)\n",
    "entry_headline.grid(row=0, column=1, padx=10, pady=10)\n",
    "\n",
    "btn_predict = ttk.Button(root, text=\"Predict\", command=on_predict)\n",
    "btn_predict.grid(row=1, column=0, columnspan=2, pady=10)\n",
    "\n",
    "label_result = ttk.Label(root, text=\"\", foreground=\"black\")\n",
    "label_result.grid(row=2, column=0, columnspan=2, padx=10, pady=10)\n",
    "\n",
    "# Run the Tkinter event loop\n",
    "root.mainloop()\n"
   ]
  },
  {
   "cell_type": "code",
   "execution_count": null,
   "id": "2fdd7b9d-3aee-4c2b-80f1-3d0a26006e59",
   "metadata": {},
   "outputs": [],
   "source": []
  }
 ],
 "metadata": {
  "kernelspec": {
   "display_name": "Python 3 (ipykernel)",
   "language": "python",
   "name": "python3"
  },
  "language_info": {
   "codemirror_mode": {
    "name": "ipython",
    "version": 3
   },
   "file_extension": ".py",
   "mimetype": "text/x-python",
   "name": "python",
   "nbconvert_exporter": "python",
   "pygments_lexer": "ipython3",
   "version": "3.12.0b3"
  }
 },
 "nbformat": 4,
 "nbformat_minor": 5
}
