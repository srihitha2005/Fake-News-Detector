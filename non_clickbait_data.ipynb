{
 "cells": [
  {
   "cell_type": "code",
   "execution_count": 105,
   "id": "34e2239e-6c9f-48d7-8d75-be98c073d1c3",
   "metadata": {},
   "outputs": [],
   "source": [
    "import requests\n",
    "from bs4 import BeautifulSoup\n",
    "import pandas as pd\n",
    "\n",
    "urls = ['https://www.nbcnews.com/','https://indianexpress.com/', 'https://www.ndtv.com/','https://indianexpress.com/','https://thewire.in/','https://indianexpress.com/']\n",
    "headlines_list = []\n",
    "\n",
    "for url in urls:\n",
    "    response = requests.get(url)\n",
    "    soup = BeautifulSoup(response.text, 'html.parser')\n",
    "    headlines = soup.find('body').find_all('h3')\n",
    "    for x in headlines:\n",
    "        headlines_list.append(x.text.strip())\n",
    "\n",
    "df = pd.DataFrame(headlines_list, columns=['Headlines'])\n",
    "df = df[df['Headlines'].str.split().str.len() >= 3]\n",
    "df = df[~df['Headlines'].str.contains('Subscriber', case=False, regex=True)]\n",
    "# Save the modified DataFrame to a CSV file\n",
    "df = df.rename_axis('Index').to_csv('non_clickbait_train.csv', index=True)\n"
   ]
  },
  {
   "cell_type": "code",
   "execution_count": 106,
   "id": "660fdf52-ab39-4fd8-9a1a-5386eb115c5c",
   "metadata": {},
   "outputs": [
    {
     "name": "stdout",
     "output_type": "stream",
     "text": [
      "     Index                                          Headlines\n",
      "7       23  Israeli strikes on southern Gaza city of Rafah...\n",
      "8       24  2 Japanese navy helicopters crash in the Pacif...\n",
      "9       25  China’s stressed and overworked youth skip the...\n",
      "10      26  2 mayoral candidates killed in Mexico, bringin...\n",
      "11      27  North Korea says it tested ‘super-large’ cruis...\n",
      "..     ...                                                ...\n",
      "241    292  Shashi Tharoor booked for false campaign again...\n",
      "242    293  Singing the BJP’s tune, the songsters taking t...\n",
      "243    295                    KKR vs RCB Live Score, IPL 2024\n",
      "244    296  Direct tax collections up 18% in FY24, top rev...\n",
      "245    298                      Cult worship and consequences\n",
      "\n",
      "[211 rows x 2 columns]\n"
     ]
    }
   ],
   "source": [
    "df=pd.read_csv('non_clickbait_train.csv')\n",
    "\n",
    "df = df[df['Index'].isin([16,17,18,19,20,21,22,29,30,35,36,42,43,49,50,56,57,61,62,66,67,70,144,168,169,179,180,181,182,183,184,185,186,187,232]) == False]\n",
    "df.to_csv('non_clickbait_train.csv',index=False)\n",
    "\n",
    "print(df)"
   ]
  },
  {
   "cell_type": "code",
   "execution_count": 107,
   "id": "3e6bb772-d46b-44e4-b1c5-cc210bfdd201",
   "metadata": {},
   "outputs": [
    {
     "name": "stdout",
     "output_type": "stream",
     "text": [
      "     Index                                          Headlines\n",
      "0      171                OnePlus Nord CE 4 First Impressions\n",
      "1      172                              Realme 12 Pro+ Review\n",
      "2      173  OnePlus Open First Impressions: It's Finally H...\n",
      "3      174  Oppo Find N3 Flip First Impressions: Better Th...\n",
      "4      175                  Apple Watch Series 9: What's New?\n",
      "..     ...                                                ...\n",
      "98     292  Shashi Tharoor booked for false campaign again...\n",
      "99     293  Singing the BJP’s tune, the songsters taking t...\n",
      "100    295                    KKR vs RCB Live Score, IPL 2024\n",
      "101    296  Direct tax collections up 18% in FY24, top rev...\n",
      "102    298                      Cult worship and consequences\n",
      "\n",
      "[103 rows x 2 columns]\n"
     ]
    }
   ],
   "source": [
    "df = pd.read_csv('non_clickbait_train.csv')\n",
    "df = df[df['Index'] > 170]\n",
    "df.to_csv('non_clickbait_test.csv', index=False)\n",
    "\n",
    "df = pd.read_csv('non_clickbait_train.csv')\n",
    "df = df[df['Index'] <= 170]\n",
    "df.to_csv('non_clickbait_train.csv', index=False)"
   ]
  },
  {
   "cell_type": "code",
   "execution_count": 108,
   "id": "86ae6868-2f5d-47c9-a804-00ac8e343a9b",
   "metadata": {},
   "outputs": [
    {
     "name": "stdout",
     "output_type": "stream",
     "text": [
      "     Index                                          Headlines\n",
      "0      171                OnePlus Nord CE 4 First Impressions\n",
      "1      172                              Realme 12 Pro+ Review\n",
      "2      173  OnePlus Open First Impressions: It's Finally H...\n",
      "3      174  Oppo Find N3 Flip First Impressions: Better Th...\n",
      "4      175                  Apple Watch Series 9: What's New?\n",
      "..     ...                                                ...\n",
      "98     292  Shashi Tharoor booked for false campaign again...\n",
      "99     293  Singing the BJP’s tune, the songsters taking t...\n",
      "100    295                    KKR vs RCB Live Score, IPL 2024\n",
      "101    296  Direct tax collections up 18% in FY24, top rev...\n",
      "102    298                      Cult worship and consequences\n",
      "\n",
      "[103 rows x 2 columns]\n"
     ]
    }
   ],
   "source": [
    "df=pd.read_csv('non_clickbait_test.csv')\n",
    "print(df)"
   ]
  },
  {
   "cell_type": "code",
   "execution_count": 110,
   "id": "86b09033-7f34-46a0-b974-37af01fb0b0d",
   "metadata": {},
   "outputs": [
    {
     "name": "stdout",
     "output_type": "stream",
     "text": [
      "     Index                                          Headlines\n",
      "0       23  Israeli strikes on southern Gaza city of Rafah...\n",
      "1       24  2 Japanese navy helicopters crash in the Pacif...\n",
      "2       25  China’s stressed and overworked youth skip the...\n",
      "3       26  2 mayoral candidates killed in Mexico, bringin...\n",
      "4       27  North Korea says it tested ‘super-large’ cruis...\n",
      "..     ...                                                ...\n",
      "103    164  Leaked Images of the Pixel 9 Pro Suggest the P...\n",
      "104    165  OTT Releases This Week: Rebel Moon Part 2, Art...\n",
      "105    166                         Moto G64 First Impressions\n",
      "106    167  Ray-Ban Meta Smart Glasses: Versatile and Prac...\n",
      "107    170  Samsung Galaxy S24: Best Compact Phone of the ...\n",
      "\n",
      "[108 rows x 2 columns]\n"
     ]
    }
   ],
   "source": [
    "df=pd.read_csv('non_clickbait_train.csv')\n",
    "print(df)"
   ]
  },
  {
   "cell_type": "code",
   "execution_count": 111,
   "id": "4b2fced4-33c7-4266-bdc7-ed73b3349452",
   "metadata": {},
   "outputs": [],
   "source": [
    "df=pd.read_csv('non_clickbait_train.csv')\n",
    "df = df.drop(columns=['Index'])\n",
    "df.to_csv('non_clickbait_train.csv',index=False)"
   ]
  },
  {
   "cell_type": "code",
   "execution_count": 112,
   "id": "9c46af6c-d032-4463-8436-60d637e4298a",
   "metadata": {},
   "outputs": [],
   "source": [
    "df=pd.read_csv('non_clickbait_test.csv')\n",
    "df = df.drop(columns=['Index'])\n",
    "df.to_csv('non_clickbait_test.csv',index=False)"
   ]
  },
  {
   "cell_type": "code",
   "execution_count": 113,
   "id": "3301f375-2ea4-4d4f-8369-1ded4778b8d8",
   "metadata": {},
   "outputs": [
    {
     "name": "stdout",
     "output_type": "stream",
     "text": [
      "                                             Headlines\n",
      "0                  OnePlus Nord CE 4 First Impressions\n",
      "1                                Realme 12 Pro+ Review\n",
      "2    OnePlus Open First Impressions: It's Finally H...\n",
      "3    Oppo Find N3 Flip First Impressions: Better Th...\n",
      "4                    Apple Watch Series 9: What's New?\n",
      "..                                                 ...\n",
      "98   Shashi Tharoor booked for false campaign again...\n",
      "99   Singing the BJP’s tune, the songsters taking t...\n",
      "100                    KKR vs RCB Live Score, IPL 2024\n",
      "101  Direct tax collections up 18% in FY24, top rev...\n",
      "102                      Cult worship and consequences\n",
      "\n",
      "[103 rows x 1 columns]\n"
     ]
    }
   ],
   "source": [
    "df=pd.read_csv('non_clickbait_test.csv')\n",
    "print(df)"
   ]
  },
  {
   "cell_type": "code",
   "execution_count": 114,
   "id": "d88fb999-d64c-468a-b21f-e2d1f16e5c2a",
   "metadata": {},
   "outputs": [
    {
     "name": "stdout",
     "output_type": "stream",
     "text": [
      "                                             Headlines\n",
      "0    Israeli strikes on southern Gaza city of Rafah...\n",
      "1    2 Japanese navy helicopters crash in the Pacif...\n",
      "2    China’s stressed and overworked youth skip the...\n",
      "3    2 mayoral candidates killed in Mexico, bringin...\n",
      "4    North Korea says it tested ‘super-large’ cruis...\n",
      "..                                                 ...\n",
      "103  Leaked Images of the Pixel 9 Pro Suggest the P...\n",
      "104  OTT Releases This Week: Rebel Moon Part 2, Art...\n",
      "105                         Moto G64 First Impressions\n",
      "106  Ray-Ban Meta Smart Glasses: Versatile and Prac...\n",
      "107  Samsung Galaxy S24: Best Compact Phone of the ...\n",
      "\n",
      "[108 rows x 1 columns]\n"
     ]
    }
   ],
   "source": [
    "df=pd.read_csv('non_clickbait_train.csv')\n",
    "print(df)"
   ]
  },
  {
   "cell_type": "code",
   "execution_count": null,
   "id": "7208b26c-b806-422b-8672-506387894069",
   "metadata": {},
   "outputs": [],
   "source": []
  }
 ],
 "metadata": {
  "kernelspec": {
   "display_name": "Python 3 (ipykernel)",
   "language": "python",
   "name": "python3"
  },
  "language_info": {
   "codemirror_mode": {
    "name": "ipython",
    "version": 3
   },
   "file_extension": ".py",
   "mimetype": "text/x-python",
   "name": "python",
   "nbconvert_exporter": "python",
   "pygments_lexer": "ipython3",
   "version": "3.12.0b3"
  }
 },
 "nbformat": 4,
 "nbformat_minor": 5
}
